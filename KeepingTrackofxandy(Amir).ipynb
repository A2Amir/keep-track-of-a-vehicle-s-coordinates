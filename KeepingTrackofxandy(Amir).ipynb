{
 "cells": [
  {
   "cell_type": "code",
   "execution_count": 79,
   "metadata": {},
   "outputs": [],
   "source": [
    "import numpy as np\n",
    "from math import cos,sin,tan,pi\n",
    "from matplotlib import pyplot as plt\n",
    "import matplotlib.animation as animation\n",
    "from matplotlib import cm\n",
    "from celluloid import Camera\n",
    "from IPython.display import HTML\n"
   ]
  },
  {
   "cell_type": "markdown",
   "metadata": {},
   "source": [
    "# Keeping Track of Vehicle x and y\n",
    "\n",
    "Now that you know how to solve trigonometry problems, you can keep track of a vehicle's $x$ and $y$ coordinates as it moves in any direction. \n",
    "\n",
    "\n",
    "```python\n",
    "# instantiate vehicle\n",
    "v = Vehicle()\n",
    "\n",
    "# drive forward 10 meters\n",
    "v.drive_forward(10)\n",
    "\n",
    "# turn left in 10 increments of 9 degrees each.\n",
    "for _ in range(10):\n",
    "    v.turn(9.0)\n",
    "    v.drive_forward(1)\n",
    "\n",
    "v.drive_forward(10)\n",
    "\n",
    "v.show_trajectory()\n",
    "```\n",
    "\n",
    "and this final call to `show_trajectory` should produce a graph that looks like this:\n",
    "\n",
    "![](https://d17h27t6h515a5.cloudfront.net/topher/2017/December/5a3184b7_xy-traj/xy-traj.png)"
   ]
  },
  {
   "cell_type": "code",
   "execution_count": 216,
   "metadata": {},
   "outputs": [],
   "source": [
    "from time import sleep\n",
    "from IPython.display import clear_output\n",
    "\n",
    "\n",
    "class Vehicle:\n",
    "    def __init__(self):\n",
    "        self.x=0.0\n",
    "        self.y=0.0\n",
    "        self.heading = 0.0\n",
    "        self.history=[]\n",
    "        \n",
    "        \n",
    " \n",
    "    def drive_forward(self, displacement):\n",
    "        \"\"\"\n",
    "        Updates x and y coordinates of vehicle based on \n",
    "        heading and appends previous (x,y) position to\n",
    "        history.\n",
    "        \"\"\"\n",
    "       \n",
    "        delta_x = displacement * np.cos(self.heading)#adjacent\n",
    "        delta_y = displacement * np.sin(self.heading)#opposite\n",
    "        \n",
    "        \n",
    "        \n",
    "        new_x=self.x+delta_x\n",
    "        new_y=self.y+delta_y\n",
    "        \n",
    "        self.history.append((self.x,self.y))\n",
    "        self.x=new_x\n",
    "        self.y=new_y\n",
    "    def set_heading(self,heading_in_degrees):\n",
    "        \"\"\"\n",
    "        Sets the current heading (in radians) to a new value\n",
    "        based on heading_in_degrees. Vehicle heading is always\n",
    "        between 0 and 2 * pi.\n",
    "        \"\"\"\n",
    "        assert -180<heading_in_degrees<+180\n",
    "        ridians=(heading_in_degrees * pi / 180) % (2*pi)\n",
    "        self.heading=ridians\n",
    "    \n",
    "    def turn(self,angle_in_degrees):\n",
    "        \"\"\"\n",
    "        Changes the vehicle's heading by angle_in_degrees. Vehicle \n",
    "        heading is always between 0 and 2 * pi.\n",
    "        \"\"\"\n",
    "        ridians=(angle_in_degrees * pi / 180) % (2*pi)\n",
    "        new_heading=self.heading+ridians\n",
    "        self.heading=new_heading\n",
    "    \n",
    "    def show_trajectory(self):\n",
    "        \"\"\"\n",
    "        Creates a scatter plot of vehicle's trajectory.\n",
    "        \n",
    "        \n",
    "        \"\"\"\n",
    "        # don't forget to add the CURRENT x and y\n",
    "        self.history.append((self.x,self.y))\n",
    "\n",
    "        \n",
    "      \n",
    "        X=[p[0] for p in self.history]\n",
    "        Y=[p[1] for p in self.history]\n",
    "\n",
    "\n",
    "        plt.scatter(X,Y)\n",
    "        plt.plot(X,Y)\n",
    "\n",
    "        plt.title(\"Vehicle (x,y) trajectory\")\n",
    "        plt.xlabel(\"X plosition\")\n",
    "        plt.ylabel(\"Y position\")\n",
    "\n",
    "        plt.axes().set_aspect('equal','datalim')\n",
    "        \n",
    "\n",
    "        \n",
    " \n",
    "        points = np.array(self.history)\n",
    "        numpoints = len(points)\n",
    "        camera = Camera(plt.figure())\n",
    "        for p in points:\n",
    "            plt.scatter(p[0],p[1], s=200,marker=\"o\",color='blue')\n",
    "\n",
    "            plt.legend([p]);\n",
    "            camera.snap()\n",
    "        anim = camera.animate(blit=True)\n",
    "        anim.save('scatter.mp4')\n"
   ]
  },
  {
   "cell_type": "code",
   "execution_count": 217,
   "metadata": {},
   "outputs": [
    {
     "name": "stderr",
     "output_type": "stream",
     "text": [
      "C:\\Users\\ziaeeamir\\AppData\\Local\\Continuum\\anaconda3\\lib\\site-packages\\matplotlib\\figure.py:98: MatplotlibDeprecationWarning: \n",
      "Adding an axes using the same arguments as a previous axes currently reuses the earlier instance.  In a future version, a new instance will always be created and returned.  Meanwhile, this warning can be suppressed, and the future behavior ensured, by passing a unique label to each axes instance.\n",
      "  \"Adding an axes using the same arguments as a previous axes \"\n",
      "C:\\Users\\ziaeeamir\\AppData\\Local\\Continuum\\anaconda3\\lib\\site-packages\\matplotlib\\text.py:1191: FutureWarning: elementwise comparison failed; returning scalar instead, but in the future will perform elementwise comparison\n",
      "  if s != self._text:\n"
     ]
    },
    {
     "data": {
      "image/png": "[encoded data removed]",
      "text/plain": [
       "<Figure size 432x288 with 1 Axes>"
      ]
     },
     "metadata": {
      "needs_background": "light"
     },
     "output_type": "display_data"
    },
    {
     "data": {
      "image/png": "[encoded data removed]",
      "text/plain": [
       "<Figure size 432x288 with 1 Axes>"
      ]
     },
     "metadata": {
      "needs_background": "light"
     },
     "output_type": "display_data"
    }
   ],
   "source": [
    "# instantiate vehicle\n",
    "v = Vehicle()\n",
    "\n",
    "# drive forward 10 meters\n",
    "v.drive_forward(10)\n",
    "# turn left in 10 increments of 9 degrees each.\n",
    "\n",
    "for _ in range(39):\n",
    "    v.turn(9.0)\n",
    "    v.drive_forward(1)\n",
    "v.drive_forward(10)\n",
    "for _ in range(39):\n",
    "    v.turn(-9.0)\n",
    "    v.drive_forward(1)\n",
    "    \n",
    "v.drive_forward(10)\n",
    "for _ in range(39):\n",
    "    v.turn(9.0)\n",
    "    v.drive_forward(1)\n",
    "v.drive_forward(10)\n",
    "for _ in range(39):\n",
    "    v.turn(-9.0)\n",
    "    v.drive_forward(1)\n",
    "\n",
    "\n",
    "v.drive_forward(10)\n",
    "v.show_trajectory()"
   ]
  },
  {
   "cell_type": "code",
   "execution_count": 218,
   "metadata": {},
   "outputs": [
    {
     "data": {
      "text/html": [
       "\n",
       "<video width=\"960\" height=\"540\" controls>\n",
       "    <source src=\"./scatter.mp4\">\n",
       "</video>\n"
      ],
      "text/plain": [
       "<IPython.core.display.HTML object>"
      ]
     },
     "execution_count": 218,
     "metadata": {},
     "output_type": "execute_result"
    }
   ],
   "source": [
    "HTML(\"\"\"\n",
    "<video width=\"960\" height=\"540\" controls>\n",
    "    <source src=\"{0}\">\n",
    "</video>\n",
    "\"\"\".format('./scatter.mp4'))"
   ]
  },
  {
   "cell_type": "code",
   "execution_count": 72,
   "metadata": {},
   "outputs": [
    {
     "name": "stdout",
     "output_type": "stream",
     "text": [
      "Congratulations! Your vehicle's drive_forward method works\n",
      "Congratulations! Your vehicle's drive_forward method works\n"
     ]
    }
   ],
   "source": [
    "from testing import test_drive_forward,test_set_heading\n",
    "test_drive_forward(Vehicle)\n",
    "test_drive_forward(Vehicle)"
   ]
  },
  {
   "cell_type": "code",
   "execution_count": 5,
   "metadata": {},
   "outputs": [],
   "source": [
    "rads = (60 * pi / 180) % (2*pi)"
   ]
  },
  {
   "cell_type": "code",
   "execution_count": 6,
   "metadata": {},
   "outputs": [
    {
     "data": {
      "text/plain": [
       "1.0471975511965976"
      ]
     },
     "execution_count": 6,
     "metadata": {},
     "output_type": "execute_result"
    }
   ],
   "source": [
    "rads"
   ]
  },
  {
   "cell_type": "code",
   "execution_count": 7,
   "metadata": {},
   "outputs": [
    {
     "data": {
      "text/plain": [
       "True"
      ]
     },
     "execution_count": 7,
     "metadata": {},
     "output_type": "execute_result"
    }
   ],
   "source": [
    "\n",
    "(60 * pi / 180)==rads"
   ]
  }
 ],
 "metadata": {
  "kernelspec": {
   "display_name": "Python 3",
   "language": "python",
   "name": "python3"
  },
  "language_info": {
   "codemirror_mode": {
    "name": "ipython",
    "version": 3
   },
   "file_extension": ".py",
   "mimetype": "text/x-python",
   "name": "python",
   "nbconvert_exporter": "python",
   "pygments_lexer": "ipython3",
   "version": "3.6.4"
  }
 },
 "nbformat": 4,
 "nbformat_minor": 2
}
